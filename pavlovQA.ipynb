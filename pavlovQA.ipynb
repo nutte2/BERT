{
 "cells": [
  {
   "cell_type": "code",
   "execution_count": null,
   "metadata": {},
   "outputs": [],
   "source": [
    "!pip install deeppavlov\n",
    "!python -m deeppavlov install squad_bert\n",
    "!python -m deeppavlov interact squad_bert -d\n"
   ]
  },
  {
   "cell_type": "code",
   "execution_count": null,
   "metadata": {},
   "outputs": [],
   "source": [
    "from deeppavlov import build_model, configs\n",
    "model_qa_ml = build_model(configs.squad.squad_bert_multilingual_freezed_emb, download=True)  \n"
   ]
  },
  {
   "cell_type": "code",
   "execution_count": null,
   "metadata": {},
   "outputs": [],
   "source": [
    "context_en = \"In meteorology, precipitation is any product of the condensation of atmospheric \\\n",
    "  water vapor that falls under gravity. The main forms of precipitation include drizzle, rain, \\\n",
    "  sleet, snow, graupel, and hail. Precipitation forms as smaller droplets coalesce via collision \\\n",
    "  with other raindrops or ice crystals within a cloud. Short, intense periods of rain in scattered locations \\\n",
    "  are called showers.\"\n",
    "context_sv = \"Blommorna växer på marken. De är vackra\"\n"
   ]
  },
  {
   "cell_type": "code",
   "execution_count": null,
   "metadata": {},
   "outputs": [],
   "source": [
    "s=model_qa_ml([context_en, context_sv], \n",
    "      [\"Where do water droplets collide with ice crystals to form precipitation?\"],\n",
    "           \"Var växer blommorna?\"])\n",
    "print(s)\n"
   ]
  }
 ],
 "metadata": {
  "kernelspec": {
   "display_name": "Python 3",
   "language": "python",
   "name": "python3"
  },
  "language_info": {
   "codemirror_mode": {
    "name": "ipython",
    "version": 3
   },
   "file_extension": ".py",
   "mimetype": "text/x-python",
   "name": "python",
   "nbconvert_exporter": "python",
   "pygments_lexer": "ipython3",
   "version": "3.7.6"
  }
 },
 "nbformat": 4,
 "nbformat_minor": 4
}
