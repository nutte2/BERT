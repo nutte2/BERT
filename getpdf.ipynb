{
 "cells": [
  {
   "cell_type": "markdown",
   "metadata": {},
   "source": [
    "Introduktion till hur man kan hämta .pdf-filer från Trafikverkets web-sajt\n",
    "lokalt till en önskad filkatalog för framtida bearbetning.\n",
    "\n",
    "DIHS_BERT-kurs. Kalle Prorok 2020-10-01\n"
   ]
  },
  {
   "cell_type": "code",
   "execution_count": null,
   "metadata": {},
   "outputs": [],
   "source": [
    "!pip install urllib3\n",
    "!pip install bs4\n"
   ]
  },
  {
   "cell_type": "code",
   "execution_count": null,
   "metadata": {},
   "outputs": [],
   "source": [
    "import shutil\n",
    "import tempfile\n",
    "import urllib.request\n",
    "from urllib.parse import urljoin\n",
    "\n",
    "#urO='https://www.trafikverket.se/nara-dig/projekt-i-flera-lan/Ostlanken/aktuella-handlingar-for-ostlanken/'\n",
    "ur='https://www.trafikverket.se/nara-dig/projekt-i-flera-lan/Norrbotniabanan/Dokument/'\n",
    "localdir=r'/webscraping3'\n",
    "\n",
    "import requests\n",
    "import urllib.request\n",
    "\n",
    "from urllib import request\n",
    "\n",
    "from bs4 import BeautifulSoup\n",
    "import re\n",
    "import os\n",
    "import urllib\n"
   ]
  },
  {
   "cell_type": "code",
   "execution_count": null,
   "metadata": {},
   "outputs": [],
   "source": []
  },
  {
   "cell_type": "code",
   "execution_count": null,
   "metadata": {},
   "outputs": [],
   "source": [
    "def download(url,pattern,folder_location):\n",
    "    if not os.path.exists(folder_location):os.mkdir(folder_location)\n",
    "    response = requests.get(url)\n",
    "    soup= BeautifulSoup(response.text, \"html.parser\")\n",
    "    links= soup.select(pattern)\n",
    "    for link in links[0:2]: # Just use the first 2 links, may change to more/all\n",
    "    #Name the pdf files using the last portion of each link which are unique in this case\n",
    "        filename = os.path.join(folder_location,link['href'].split('/')[-1])\n",
    "        print(filename)\n",
    "        with open(filename, 'wb') as f: # Warning: Overwrites files\n",
    "            f.write(requests.get(urljoin(url,link['href'])).content)"
   ]
  },
  {
   "cell_type": "code",
   "execution_count": null,
   "metadata": {},
   "outputs": [],
   "source": [
    "download(ur,\"a[href$='.pdf']\",localdir)"
   ]
  },
  {
   "cell_type": "code",
   "execution_count": null,
   "metadata": {},
   "outputs": [],
   "source": [
    "!ls /webscraping3"
   ]
  }
 ],
 "metadata": {
  "kernelspec": {
   "display_name": "Python 3",
   "language": "python",
   "name": "python3"
  },
  "language_info": {
   "codemirror_mode": {
    "name": "ipython",
    "version": 3
   },
   "file_extension": ".py",
   "mimetype": "text/x-python",
   "name": "python",
   "nbconvert_exporter": "python",
   "pygments_lexer": "ipython3",
   "version": "3.7.6"
  }
 },
 "nbformat": 4,
 "nbformat_minor": 4
}
