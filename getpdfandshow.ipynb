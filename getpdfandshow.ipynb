{
 "cells": [
  {
   "cell_type": "markdown",
   "metadata": {},
   "source": [
    "Introduktion till hur man kan hämta .pdf-filer från Trafikverkets web-sajt\n",
    "lokalt till en önskad filkatalog och även titta på innehållet samt översätt.\n",
    "\n",
    "DIHS_BERT-kurs. Kalle Prorok 2020-10-01\n"
   ]
  },
  {
   "cell_type": "code",
   "execution_count": null,
   "metadata": {},
   "outputs": [],
   "source": [
    "!pip install urllib3\n",
    "!pip install bs4\n"
   ]
  },
  {
   "cell_type": "code",
   "execution_count": null,
   "metadata": {},
   "outputs": [],
   "source": [
    "import shutil\n",
    "import tempfile\n",
    "import urllib.request\n",
    "from urllib.parse import urljoin\n",
    "\n",
    "#urO='https://www.trafikverket.se/nara-dig/projekt-i-flera-lan/Ostlanken/aktuella-handlingar-for-ostlanken/'\n",
    "ur='https://www.trafikverket.se/nara-dig/projekt-i-flera-lan/Norrbotniabanan/Dokument/'\n",
    "localdir=r'/webscraping3'\n",
    "\n",
    "import requests\n",
    "import urllib.request\n",
    "\n",
    "from urllib import request\n",
    "\n",
    "from bs4 import BeautifulSoup\n",
    "import re\n",
    "import os\n",
    "import urllib\n"
   ]
  },
  {
   "cell_type": "code",
   "execution_count": null,
   "metadata": {},
   "outputs": [],
   "source": []
  },
  {
   "cell_type": "code",
   "execution_count": null,
   "metadata": {},
   "outputs": [],
   "source": [
    "def download(url,pattern,folder_location):\n",
    "    if not os.path.exists(folder_location):os.mkdir(folder_location)\n",
    "    response = requests.get(url)\n",
    "    soup= BeautifulSoup(response.text, \"html.parser\")\n",
    "    links= soup.select(pattern)\n",
    "    for link in links[0:2]: # Just use the first 2 links, may change to more/all\n",
    "    #Name the pdf files using the last portion of each link which are unique in this case\n",
    "        filename = os.path.join(folder_location,link['href'].split('/')[-1])\n",
    "        print(filename)\n",
    "        with open(filename, 'wb') as f: # Warning: Overwrites files\n",
    "            f.write(requests.get(urljoin(url,link['href'])).content)"
   ]
  },
  {
   "cell_type": "code",
   "execution_count": null,
   "metadata": {},
   "outputs": [],
   "source": [
    "download(ur,\"a[href$='.pdf']\",localdir)"
   ]
  },
  {
   "cell_type": "code",
   "execution_count": null,
   "metadata": {},
   "outputs": [],
   "source": [
    "!ls /webscraping3"
   ]
  },
  {
   "cell_type": "code",
   "execution_count": null,
   "metadata": {},
   "outputs": [],
   "source": [
    "!pip install PyMuPDF==1.16.14\n",
    "import fitz"
   ]
  },
  {
   "cell_type": "code",
   "execution_count": null,
   "metadata": {},
   "outputs": [],
   "source": [
    "\n"
   ]
  },
  {
   "cell_type": "code",
   "execution_count": null,
   "metadata": {},
   "outputs": [],
   "source": [
    "def visafiler(localdir):\n",
    "    for file in os.listdir(localdir):\n",
    "        if file.endswith(\".pdf\"):\n",
    "            fn = os.path.join(webdir, file)\n",
    "            print(fn)\n",
    "            doc = fitz.open(fn)\n",
    "            sidor = len(doc)\n",
    "            print(\"Sidor:\",sidor)\n",
    "            for page in range(5) # doc: # visa bara de första sidorna, ta bort range(5) för alla\n",
    "                if page<5: \n",
    "                    t = page.getText()\n",
    "                    print(t)\n",
    "            print()"
   ]
  },
  {
   "cell_type": "code",
   "execution_count": null,
   "metadata": {},
   "outputs": [],
   "source": [
    "visafiler('/webscraping3')"
   ]
  },
  {
   "cell_type": "code",
   "execution_count": null,
   "metadata": {},
   "outputs": [],
   "source": [
    "full=\"\"\"\n",
    "Samspelande arbets-, utbildnings- och bostadsmarknader genom regionförstoring. Denna miljökonsekvensbeskrivning (MKB) utgör en del av järnvägsplanen. Bron utformas så att människor och medelstora däggdjur kan färdas under den. Järnvägsplanens konsekvenser jämförs med nollalternativet. Det småskaliga mosaiklandskapet kan påverkas av igenväxning om hävden upphör. Fäbod- och Ersmarksberget, som har högre landskapsbildsvärde, bevaras orörda. Järnvägen avskärmas från Ersmark av ett skogsparti. Landskapsåtgärder och terrängmodelleringar görs för att mildra påverkan. Natur- och grönområden utvecklas i enlighet med kommunal planering. Markanvändningen bedöms i övrigt till stor del se ut som idag. Nollalternativet bedöms medföra små negativa konsekvenser för naturmiljön. Rekreations- och friluftsområden utvecklas i enlighet med kommunal planering. Kommunens planer på expansion av från de större vägarna. Små negativa konsekvenser bedöms uppstå av nollalternativet. Skillnaden blir stor jämfört med nuläge och nollalternativ. Konsekvenserna avseende buller bedöms sammantaget som måttligt negativa. Järnvägsplanenminskar och därmed sjunker emissionerna från vägtransporter. Detta bedöms medföra positiva effekter avseende luft.luft. Tillgängligheten upprätthålls med broar och nya service- och ersättningsvägar. Öster om väg 364 går järnvägen till övervägande del på bank i skogsmark. Detta medför att markanspråket blir förhållandevis stort. Järnvägen medför ytterligare en barriär i ett redan fragmenterat landskap. Små negativa konsekvenser bedöms uppstå för ytvattenresurser. I projektet säkerställs att vandringshinder inte uppstår. Trummor och broar dimensioneras så att hydrauliska förhållanden inte påverkas. Projektet påverkar inte möjligheten att uppnå fastställda miljökvalitetsnormer. Konsekvenserna för ytvattenresurser bedöms sammantaget som små negativa. I utpekade grundvattenresurser och inga grundvattenuttag sker. Inga konsekvenser bedöms uppstå avseende masshantering. JärnvägsplanenProjektet kommer att generera ett stort massöverskott. Risker kopplade till järnvägsplanen bedöms således sammantaget vara låga. Under respektive aspektområde redovisas inarbetade åtgärder. Samtliga underlag som använts redovisas i kapitel 11. Pendlingsresor sker i huvudsak in till Umeå från omkringliggande tätorter. Den del av området som berörs är planlagd för högspänningsledning. Grundvattenytan längs sträckan ligger högt, ca 0-1,5 m under markytan. I de nordliga delarna av vilket även kan kallas förskiffring. Utöver dessa bergarter förekommer även en grovporfyrisk granitoid. Detta främst från närsalter, men även från tungmetaller. Under arbetet med järnvägsutredningen skedde viss omarbetning av alternativen. Bergskärningar kommer att utformas med lutningen 3:1 där så är möjligt. Underhåll kommer dock att krävas kontinuerligt under den tiden. Slutlig omfattning på bergtekniska åtgärder kommer att bestämmas i byggskedet. Fäbodvägens passage med järnvägen (km ca 2+500) kommer att stängas. Byggvägarna kommer att återställas när arbetena är slutförda. det inte längre något behov av ett nytt fördröjningsmagasin. Ecoinvent 3.3 har använts för generiska livscykelinventeringsdata (LCI). Systemkonsekvenser för Norrbotniabanan som helhet beskrivs endast översiktligt. OdlingslandskapOdlingsmark förekommer på fyra platser längs sträckningen. Små ägovägar följer landskapsformerna i gränsen mellan öppen mark och skog. Tavelsjöledens anslutningar till bron kommer att ledas om genom skogsmarken. Förslaget är en trespannsbro eller en plattrambro med parallella vingar. Små eller inga negativa konsekvenser bedöms uppstå. Bredden på grönremsan är ca 20 meter vilket möjliggör att träd kan utvecklas. Konsekvenserna bedöms som måttligt till mycket negativa. SkogslandskapetSkogslandskapet dominerar området för den föreslagna järnvägen. En fäbodlämning har påträffats i utförd arkeologisk utredning 2016. Detta kan komma att innebära intrång i kulturmiljövärden inom dessa områden. Planerad järnvägsanläggning innebär inget direkt intrång i fornlämningen. Vägbroar utformas för väg E12, Skjutfältsvägen, väg 364 och väg 645. På motsatta sidan om strandbrinken anordnas en torrtrumma vid sidan av bron. Ökade barriäreffekter kan komma att uppstå till följd av detta. Gång- och cykelvägen utformas så att den känns trygg att färdas längs, t. ex. Den östra strandpassagen ska göras minst 2,5 m bred och minst 3 m hög. Figur 6.6-3 Sumpskog i I 20-skogen med hänglavsbevuxna äldre granar. Någon enstaka åker odlas med korn medan det annars förekommer vallodling. Det är ett område som sluttningen ned mot Tavelån är vegetationen frodig. Broar över Tavelån kommer att anläggas utan brostöd i vattenfårorna. Storraningsbäcken kommer att ledas över järnvägen via den kombinerade passagen. Påverkan på vattenmiljöeruträtning, igenväxning och/eller skogsbruk. En mindre grumling bedöms uppstå i Tavelån trots vidtagna skyddsåtgärder. Sammantaget bedöms måttligt negativa konsekvenser uppstå i området. Bottnarna utgörs normalt av gyttja eller dy i denna typ av sjö. Enskilda bestånd av arten kommer att förstöras av planerad järnväg. Restaurera Tavelån \n",
    "Delar av Tavelån är rensad vilket kan återställas. 6.8 Buller och vibrationer6.8.1 Förutsättningarverksamhetsområden och bostäder. Dessa områden påverkas idag främst och friluftsområden i I 20-skogen. I ett av Tavelåns meandernäs ligger Vadforsens koloniområde. Bullret klingar av så sakteliga för att tillslut upphöra. Figur 6.8-4 Beräknad maximal ljudtrycksnivå med spårnära åtgärder. Spårnära åtgärder samt fastighetsnära åtgärder genomförs. växlingsrörelser på godsbangården med och 645 samt E4. Idag hävdas endast mindre områden mellan väg 364 och Dåva. Detta för att minska mängden processvatten och risk för isbildning vintertid. Med inarbetade åtgärder bedöms dock denna risk kunna minimeras. Sammantaget bedöms små negativa konsekvenser uppstå. av metylkvicksilver från åtgärder i skogs- och myrmark. Den kemiska statusen bedöms inte påverkas negativt av projektet. Projektet kommer således inte påverka de hydromorfologiska kvalitetsfaktorerna. åtgärder bedöms de fysikalisk-kemiska kvalitetsfaktorerna inte påverkas. För grundvatten som bärare av ekologiska värden, se avsnitt 6.6, Naturmiljö. Figur 6.14-1 Grundvattenförutsättningar med beräknad grundvattensänkning. På vissa delar medför planförslaget ytliga skärningar genom moränryggar. Enligt massberäkningen kommer ett stort massöverskott att genereras. Om detta inte är möjligt kommer massorna att deponeras. Metoderna dimensioneras för tillräcklig säkerhet mot ras och skred. Om riskerna inte är acceptabla, ska man göra en ny värdering. Den nya järnvägen passerar Fäbod- och Ersmarksberget genom en tunnel. FunktionsmåletNorrbotniabanan bedöms bidra till uppfyllelse av funktionsmålet. Norrbotniabanan bidrar till samverkande bebyggelse och transportsystem. Måluppfyllelsen bedöms med hänsyn till detta som god. Detta bedöms bidra till minskade emissioner av kring godsbangårdar. Målet motverkas såväl permanent som under byggskedet. Järnvägen kommer att medföra permanenta grundvattensänkningar. Konsekvenserna för grundvatten som resurs är således begränsad. Projektet bedöms medföra måttligt negativa konsekvenser under byggskedet. Vid upphandling av entreprenör kommer miljökrav att ställas. Handbok för tillämpningen av bestämmelserna i 11 kapitlet miljöbalken. Inventering av växtsamhällen samt grod- och  Umeå kommun. \n",
    "\"\"\"\n",
    "full2=\"\"\"\n",
    "Hej hopp vad vi är bra!\n",
    "\"\"\""
   ]
  },
  {
   "cell_type": "code",
   "execution_count": null,
   "metadata": {},
   "outputs": [],
   "source": [
    "!pip install googletrans\n",
    "from googletrans import Translator\n",
    "translator = Translator()\n",
    "\n"
   ]
  },
  {
   "cell_type": "code",
   "execution_count": null,
   "metadata": {},
   "outputs": [],
   "source": [
    "oversatt=translator.translate(full2,dest='en')\n",
    "print(oversatt)\n",
    "\n",
    "print(oversatt.text)\n"
   ]
  }
 ],
 "metadata": {
  "kernelspec": {
   "display_name": "Python 3",
   "language": "python",
   "name": "python3"
  },
  "language_info": {
   "codemirror_mode": {
    "name": "ipython",
    "version": 3
   },
   "file_extension": ".py",
   "mimetype": "text/x-python",
   "name": "python",
   "nbconvert_exporter": "python",
   "pygments_lexer": "ipython3",
   "version": "3.7.6"
  }
 },
 "nbformat": 4,
 "nbformat_minor": 4
}
