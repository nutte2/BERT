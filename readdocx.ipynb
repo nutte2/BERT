{
 "cells": [
  {
   "cell_type": "markdown",
   "metadata": {},
   "source": [
    "Import och läsning av Word-filer i Colab. Användaren laddar själv upp filer  från sin disk.\n",
    "\n",
    "DIHS_BERT-kurs Kalle Prorok 2020-10-01\n"
   ]
  },
  {
   "cell_type": "code",
   "execution_count": null,
   "metadata": {},
   "outputs": [],
   "source": [
    "from google.colab import files\n",
    "import io\n",
    "\n",
    "uploaded = files.upload()\n",
    "\n",
    "for fn in uploaded.keys():\n",
    "  print('User uploaded file \"{name}\" with length {length} bytes'.format(\n",
    "      name=fn, length=len(uploaded[fn])))\n",
    "\n"
   ]
  },
  {
   "cell_type": "code",
   "execution_count": null,
   "metadata": {},
   "outputs": [],
   "source": [
    "!pip install docx2python\n"
   ]
  },
  {
   "cell_type": "markdown",
   "metadata": {},
   "source": [
    "Från https://pypi.org/project/docx2python/\n",
    "\n",
    "header - contents of the docx headers in the return format described herein\n",
    "\n",
    "footer - contents of the docx footers in the return format described herein\n",
    "\n",
    "body - contents of the docx in the return format described herein\n",
    "\n",
    "footnotes - contents of the docx in the return format described herein\n",
    "\n",
    "endnotes - contents of the docx in the return format described herein\n",
    "\n",
    "document - header + body + footer (read only)\n",
    "\n",
    "text - all docx text as one string, similar to what you'd get from python-docx2txt\n",
    "\n",
    "properties - docx property names mapped to values (e.g., {\"lastModifiedBy\": \"Shay Hill\"})\n",
    "\n",
    "images - image names mapped to images in binary format. Write to filesystem with\n",
    "\n",
    "Some structure will be maintained. Text will be returned in a nested list, with paragraphs always at depth 4 (i.e., output.body[i][j][k][l] will be a paragraph).\n",
    "\n",
    "Se mer för t ex tabeller etc.\n"
   ]
  },
  {
   "cell_type": "code",
   "execution_count": null,
   "metadata": {},
   "outputs": [],
   "source": [
    "from docx2python import docx2python\n",
    "\n",
    "\n",
    "fil='TanklabStyrReg.docx'\n",
    "# extract docx content\n",
    "doc_result = docx2python(fil)\n",
    "# get separate components of the document\n",
    "\n",
    "# extract docx content\n",
    "s=docx2python(fil)\n",
    "print(s)\n",
    "print(\"Body:\",s.body)\n",
    "print(\"Text:\",s.text)\n",
    "\n",
    "# extract docx content, write images to image_directory\n",
    "s=docx2python(fil, 'bilder')\n",
    "print(s)\n",
    "\n",
    "# extract docx content, ignore images\n",
    "s=docx2python(fil, extract_image=False)\n",
    "print(s)\n",
    "\n",
    "# extract docx content with basic font styles converted to html\n",
    "s=docx2python(fil, html=True)\n",
    "print(s)\n",
    "\n",
    "print(\"Bildfiler:\")\n",
    "! ls bilder\n"
   ]
  }
 ],
 "metadata": {
  "kernelspec": {
   "display_name": "Python 3",
   "language": "python",
   "name": "python3"
  },
  "language_info": {
   "codemirror_mode": {
    "name": "ipython",
    "version": 3
   },
   "file_extension": ".py",
   "mimetype": "text/x-python",
   "name": "python",
   "nbconvert_exporter": "python",
   "pygments_lexer": "ipython3",
   "version": "3.7.6"
  }
 },
 "nbformat": 4,
 "nbformat_minor": 4
}
