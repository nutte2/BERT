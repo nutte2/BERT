{
  "nbformat": 4,
  "nbformat_minor": 0,
  "metadata": {
    "colab": {
      "name": "Vatten1TRFV.ipynb",
      "provenance": [],
      "history_visible": true,
      "authorship_tag": "ABX9TyNWGXthjtF5/XD+JXN2X+bf",
      "include_colab_link": true
    },
    "kernelspec": {
      "name": "python3",
      "display_name": "Python 3"
    },
    "language_info": {
      "name": "python"
    }
  },
  "cells": [
    {
      "cell_type": "markdown",
      "metadata": {
        "id": "view-in-github",
        "colab_type": "text"
      },
      "source": [
        "<a href=\"https://colab.research.google.com/github/nutte2/BERT/blob/master/Vatten1TRFV.ipynb\" target=\"_parent\"><img src=\"https://colab.research.google.com/assets/colab-badge.svg\" alt=\"Open In Colab\"/></a>"
      ]
    },
    {
      "cell_type": "code",
      "metadata": {
        "id": "O-AHpyqzBuHC"
      },
      "source": [
        "Testprogram för att köra Vattenanmälningar från Trafikverket/Sweco till Länsstyrelsen.\n",
        "Kalle Prorok 2021-04-26\n",
        "\n",
        "\n"
      ],
      "execution_count": null,
      "outputs": []
    },
    {
      "cell_type": "code",
      "metadata": {
        "id": "nix51ad8CbKT"
      },
      "source": [
        "#Utilities for NLP. Kalle Prorok 2021\n",
        "#Använder Kungliga bibliotekets BERT\n",
        "#Dolda koden normalt placerad i NLPUtils\n",
        "\n",
        "\n"
      ],
      "execution_count": 2,
      "outputs": []
    },
    {
      "cell_type": "code",
      "metadata": {
        "cellView": "form",
        "id": "8ca9xdKAJwJ0"
      },
      "source": [
        "#@title\n",
        "#to be placed in NLPUTIL\n",
        "# urllib\n",
        "\n",
        "def frånWebsida(url,filnamn):\n",
        "  geturllibrequest(url+filnamn)\n",
        "  return fil\n",
        "\n"
      ],
      "execution_count": 1,
      "outputs": []
    },
    {
      "cell_type": "code",
      "metadata": {
        "colab": {
          "base_uri": "https://localhost:8080/",
          "height": 187
        },
        "id": "ieSj1dAMEdrd",
        "outputId": "3765fdc5-1bc4-4a62-e2c6-0fad458e9277"
      },
      "source": [
        "#Testprogram\n",
        "#import nlputil # Kalles AI-rutiner, inte klara än :)\n",
        "\n",
        "def vattenanmälan():\n",
        "    # Hämta lämpliga dokument\n",
        "    url= 'https://www.trafikverket.se/'# sajt\n",
        "    # Man kan nog (annars) söka på ordet Miljökonsekvensbeskrivning för att hitta rätt dokument\n",
        "    mkb=frånWebsida(url,'contentassets/e4edb40590bc47fcae6541b8fb0a17be/miljokonsekvensbeskrivning5.pdf')\n",
        "    PMAvvattning=frånWebsida()\n",
        "    PMMarkmiljö=frånWebsida()\n",
        "    PMNaturvärdesinventering=frånWebsida()\n",
        "    planbeskrivning=frånWebsida(url,'contentassets/e4edb40590bc47fcae6541b8fb0a17be/180704_planbeskrivning.pdf')\n",
        "    översiktskarta=frånWebsida(url,'contentassets/e4edb40590bc47fcae6541b8fb0a17be/180704_oversiktskarta.pdf')\n",
        "\n",
        "    # Se vilka bäckar som finns nämnda och kan vara aktuella, gör en ansökan för varje\n",
        "    # ner=named entity recognition, letar efter platser med ordet bäck i sig, man kan ha flera varianter\n",
        "    bäckar=ner(mkb,'POS','*bäck*||*ån*||*älv')\n",
        "    for bäck in bäckar:\n",
        "        ansökan=formulär('Länsstyrelse vattenanmälan v1',bäck) # Skapa grundformulär\n",
        "\n",
        "        #Fyll formuläret med massa fakta via add (addera)\n",
        "        ansökan.add('Länsstyrelse',ner(mkb,'ORG','*länsstyrelse*'))\n",
        "        ansökan.add('Kommun',ner(mkb,'POS','*kommun'))\n",
        "        # hitta mer eller mindre googlar fram resultat\n",
        "        ansökan.add('Organisationsnummer',hitta(['organisationsnummer',ansökan.data('Länsstyrelse')))\n",
        "        ansökan.add('Typ av verksamhet','Byte av trumma')\n",
        "\n",
        "        #hittafakta använder frågor&svar för att hitta info\n",
        "        ansökan.add('Medelvattenföring MQ',hittafakta(PMAvvattning,['Medelvattenföring' bäck])\n",
        "        ansökan.add('Trummans diameter',hittafakta(PMAvvattning,['Trummans diameter' bäck])\n",
        "        ansökan.add('Typ av vatten', 'Ytvatten')\n",
        "\n",
        "        #sammanfatta använder BERT för att hitta viktiga meningar i ett stycke där\n",
        "        # sökorden eller ord med liknande betydelse finns\n",
        "        ansökan.add('Beskrivning', sammanfatta(mkb,[bäck 'beskrivning'])\n",
        "        ansökan.add('Beskriv omgivning', sammanfatta(mkb, [bäck 'beskrivning' 'omgivning'])\n",
        "\n",
        "        ansökan.add('Föroreningar',hittafakta(PMMarkmiljö,'Föroreningar'))\n",
        "        ansökan.add('Vilket vattendrag',bäck)\n",
        "        ansökan.add('Koordinater',bäck) # behöver ofta matas in manuellt\n",
        "\n",
        "        #figur letar fram en bild i ett dokument med egenskaper som känns igen av ett\n",
        "        # AI-system, google translate (typ-ordet karta till map) + deep learning (image_net) här\n",
        "        ansökan.add('Översiktskarta',figur(mkb,['karta','legend'],sida=1:5))\n",
        "        ansökan.add('Detaljkarta',figur(mkb,['karta','legend'],sida=6:))\n",
        "        ansökan.add('Ritning',figur(mkb,['ritning','legend']))\n",
        "\n",
        "        #redigera presenterar det man kommit fram till för ändringar och kompletteringar\n",
        "        #kanske är via Anteckningar eller möjligen Word.\n",
        "        #Bildfiler ligger separat för inspektion/val/ändring/uppladdning\n",
        "        if ansökan.redigera()): # Om redigeringen är klar/ok så skickas den in\n",
        "            if ansökan.fylli(): # Fyller i Länsstyrelsens formulär\n",
        "                if ansökan.ok(): # om det verkar rätt ifyllt\n",
        "                    if ansökan.betala('betaluppgifter'): # så betala\n",
        "                        ansökan.klar()\n",
        "\n",
        "\n"
      ],
      "execution_count": 3,
      "outputs": [
        {
          "output_type": "error",
          "ename": "SyntaxError",
          "evalue": "ignored",
          "traceback": [
            "\u001b[0;36m  File \u001b[0;32m\"<ipython-input-3-ff2ff8160dbf>\"\u001b[0;36m, line \u001b[0;32m25\u001b[0m\n\u001b[0;31m    ansökan.add('Organisationsnummer',hitta(['organisationsnummer',ansökan.data('Länsstyrelse')))\u001b[0m\n\u001b[0m                                                                                               ^\u001b[0m\n\u001b[0;31mSyntaxError\u001b[0m\u001b[0;31m:\u001b[0m invalid syntax\n"
          ]
        }
      ]
    }
  ]
}